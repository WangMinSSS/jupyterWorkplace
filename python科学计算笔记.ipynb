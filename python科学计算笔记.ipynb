{
 "cells": [
  {
   "cell_type": "markdown",
   "metadata": {},
   "source": [
    "# numpy笔记"
   ]
  },
  {
   "cell_type": "code",
   "execution_count": 2,
   "metadata": {},
   "outputs": [],
   "source": [
    "import numpy as np"
   ]
  },
  {
   "cell_type": "markdown",
   "metadata": {},
   "source": [
    "## numpy基本对象\n",
    "### N维数组对象\n",
    "#### 数组的属性\n",
    "* N维数组对象ndarry与通用函数对象ufunc两种。  \n",
    "* ndarry有两个主要属性，一是数组中元素的数据类型dtype，第二个是数组的维度，数组的维度是一个元组（N-tuple）\n",
    "    * 大小（size）\n",
    "    * 每项的大小（itemsize）：单个元素的字节长度\n",
    "    * 数据（data）：指向数组的起始地址\n",
    "    * 维度（ndim）"
   ]
  },
  {
   "cell_type": "code",
   "execution_count": 11,
   "metadata": {},
   "outputs": [
    {
     "name": "stdout",
     "output_type": "stream",
     "text": [
      "行列数： (2, 3)\n",
      "数据类型： int32\n",
      "大小： 6\n",
      "每项大小： 4\n",
      "维度： 2\n",
      "数组地址： <memory at 0xa9738f0c>\n"
     ]
    }
   ],
   "source": [
    "x = np.array(((1, 2, 3), (4, 5, 6)))\n",
    "print('行列数：', x.shape)\n",
    "print('数据类型：', x.dtype)\n",
    "print('大小：', x.size)\n",
    "print('每项大小：', x.itemsize)\n",
    "print('维度：', x.ndim)\n",
    "print('数组地址：', x.data)"
   ]
  },
  {
   "cell_type": "markdown",
   "metadata": {},
   "source": [
    "#### 数组的操作\n",
    "* 使用[]的数组索引，[row, column]\n",
    "* 数组切片，start:stop:step\n",
    "    * 省略号可以用来替换多个或者零个冒号"
   ]
  },
  {
   "cell_type": "code",
   "execution_count": 21,
   "metadata": {},
   "outputs": [
    {
     "name": "stdout",
     "output_type": "stream",
     "text": [
      "在x[1,1]的数组上每3个数取一个：\n",
      "[-15053270   7471216]\n",
      "x[1]:\n",
      "[[   6094897 1701869188 1309310660    3369935 1701858858 1308644310]\n",
      " [ -15053270    2687015    7209052    7471216    7209065    2621556]\n",
      " [   5963896    2883633    2883633    3801146    6094899    6029353]\n",
      " [   7340142    6881394    7602286    2555944    5963896    6094897]\n",
      " [   2555962    6029353    7340142    6881394    7602286    7864360]]\n"
     ]
    }
   ],
   "source": [
    "x = np.ndarray((4, 5, 6), int)\n",
    "print('在x[1,1]的数组上每3个数取一个：')\n",
    "print(x[1, 1, ::3])\n",
    "print('x[1]:')\n",
    "print(x[1, ...])  #等效x[1,:,:]"
   ]
  },
  {
   "cell_type": "markdown",
   "metadata": {},
   "source": [
    "* 数组的变换\n",
    "    * ravel和reshape不改变原数组\n",
    "    * resize和指定数组维度属性的办法会改变原数组"
   ]
  },
  {
   "cell_type": "code",
   "execution_count": 32,
   "metadata": {},
   "outputs": [
    {
     "name": "stdout",
     "output_type": "stream",
     "text": [
      "ravel显示展开的数组：\n",
      "resize会改变原数组：\n",
      "[[ 1  2  3  4]\n",
      " [ 5  6  7  8]\n",
      " [ 9 10 11 12]]\n",
      "reshape不改变原数组：\n",
      "[[ 1  2  3  4  5  6]\n",
      " [ 7  8  9 10 11 12]]\n",
      "[[ 1  2  3  4]\n",
      " [ 5  6  7  8]\n",
      " [ 9 10 11 12]]\n",
      "指定数组维度：\n",
      "[[ 1  2  3]\n",
      " [ 4  5  6]\n",
      " [ 7  8  9]\n",
      " [10 11 12]]\n"
     ]
    }
   ],
   "source": [
    "x = np.array(((1, 2, 3), (4, 5, 6), (7, 8, 9), (10, 11, 12)))\n",
    "print('ravel显示展开的数组：')\n",
    "x.ravel\n",
    "x.resize((3, 4))\n",
    "print('resize会改变原数组：')\n",
    "print(x)\n",
    "print('reshape不改变原数组：')\n",
    "print(x.reshape(2, 6))\n",
    "print(x)\n",
    "print('指定数组维度：')\n",
    "x.shape = (4, 3)\n",
    "print(x)"
   ]
  },
  {
   "cell_type": "markdown",
   "metadata": {},
   "source": [
    "#### 与数组有关的类\n",
    "* 矩阵子类matrix  "
   ]
  },
  {
   "cell_type": "code",
   "execution_count": 33,
   "metadata": {},
   "outputs": [
    {
     "name": "stdout",
     "output_type": "stream",
     "text": [
      "矩阵乘法：\n",
      "[[ 30  36  42]\n",
      " [ 66  81  96]\n",
      " [102 126 150]]\n",
      "矩阵幂：\n",
      "[[ 30  36  42]\n",
      " [ 66  81  96]\n",
      " [102 126 150]]\n"
     ]
    }
   ],
   "source": [
    "mx1 = np.matrix(((1, 2, 3), (4, 5, 6), (7, 8, 9)))\n",
    "mx2 = np.matrix(((1, 2, 3), (4, 5, 6), (7, 8, 9)))\n",
    "print('矩阵乘法：')\n",
    "print(mx1 * mx2)\n",
    "print('矩阵幂：')\n",
    "print(mx1**2)"
   ]
  },
  {
   "cell_type": "markdown",
   "metadata": {},
   "source": [
    "* 掩码数组\n",
    "    * 和python里的列表生成式很像\n",
    "    * 掩码中的一个true值反应了数组里相应的值是无效的"
   ]
  },
  {
   "cell_type": "code",
   "execution_count": 38,
   "metadata": {},
   "outputs": [
    {
     "name": "stdout",
     "output_type": "stream",
     "text": [
      "[-- -- 3 4 5 6 7 8 9]\n",
      "[-- -- 3 4 5 6 7 8 9]\n"
     ]
    }
   ],
   "source": [
    "import numpy.ma as ma\n",
    "x = np.array((1, 2, 3, 4, 5, 6, 7, 8, 9))\n",
    "mx = ma.masked_array(x, mask=[1, 1, 0, 0, 0, 0, 0, 0, 0])\n",
    "mx2 = ma.masked_array(x, mask=x < 3)\n",
    "print(mx)\n",
    "print(mx2)"
   ]
  },
  {
   "cell_type": "markdown",
   "metadata": {},
   "source": [
    "### 通用函数对象\n",
    "* 好像不常用"
   ]
  },
  {
   "cell_type": "markdown",
   "metadata": {},
   "source": [
    "## numpy的数学模块\n",
    "* numpy.linalg:线性代数模块，如数组和向量的内积、外积和点积\n",
    "* numpy.fft:离散傅里叶变换，包括一维、二维、三维、转置和傅里叶变换\n",
    "* numpy.matlib:\n",
    "* numpy.random:包括一些支持各种基于统计分布生成的随机抽样数值的函数"
   ]
  },
  {
   "cell_type": "markdown",
   "metadata": {},
   "source": [
    "\n",
    "# scipy笔记\n",
    "scipy是写于numpy之上的，扩展了numpy的功能以执行高级数学功能。numpy中可用的基础的数学函数没有被重新设计，所以还会用到numpy"
   ]
  },
  {
   "cell_type": "markdown",
   "metadata": {},
   "source": [
    "## 积分 scipy.integrate\n",
    "* quad:通用积分\n",
    "* dblquad:通用二重积分\n",
    "* tplquad:通用三重积分\n",
    "* nquad:通用N重积分"
   ]
  },
  {
   "cell_type": "code",
   "execution_count": 40,
   "metadata": {},
   "outputs": [
    {
     "name": "stdout",
     "output_type": "stream",
     "text": [
      "(4.0, 4.440892098500626e-14)\n"
     ]
    }
   ],
   "source": [
    "from scipy.integrate import quad\n",
    "\n",
    "\n",
    "def wm_func(x, a, b, c):\n",
    "    return a * x * x + b * x + c\n",
    "\n",
    "\n",
    "a = 3\n",
    "b = 4\n",
    "c = 1\n",
    "result = quad(wm_func, 0, 1, args=(a, b, c))\n",
    "print(result)"
   ]
  },
  {
   "cell_type": "markdown",
   "metadata": {},
   "source": [
    "## 信号处理 scipy.signal\n",
    "包含一系列的滤波函数、滤波器设计函数，以及对一维和二维数据进行B-样条插值的函数"
   ]
  },
  {
   "cell_type": "markdown",
   "metadata": {},
   "source": [
    "## 傅里叶变换 scipy.fftpack\n",
    "对实数和复数序列的离散傅里叶变换和离散傅里叶逆变换可以分别用fft和ifft函数"
   ]
  },
  {
   "cell_type": "code",
   "execution_count": 50,
   "metadata": {},
   "outputs": [
    {
     "data": {
      "image/png": "[encoded data removed]",
      "text/plain": [
       "<Figure size 432x288 with 3 Axes>"
      ]
     },
     "metadata": {
      "needs_background": "light"
     },
     "output_type": "display_data"
    }
   ],
   "source": [
    "from scipy.fftpack import fft, ifft\n",
    "import matplotlib.pyplot as plt\n",
    "x = np.random.random_sample(5)\n",
    "y = fft(x)\n",
    "yinv = ifft(y)\n",
    "plt.subplot(311)\n",
    "plt.plot(x)\n",
    "plt.subplot(312)\n",
    "plt.plot(np.abs(y))\n",
    "plt.subplot(313)\n",
    "plt.plot(np.abs(yinv))\n",
    "plt.show()"
   ]
  },
  {
   "cell_type": "markdown",
   "metadata": {},
   "source": [
    "## 空间数据结构和算法 scipy.spatial"
   ]
  },
  {
   "cell_type": "markdown",
   "metadata": {},
   "source": [
    "## 最优化 scipy.optimize"
   ]
  },
  {
   "cell_type": "markdown",
   "metadata": {},
   "source": [
    "## 插值 scipy.interpolate\n",
    "插值是在给定的已知的离散值集合范围内寻找新数据点的方法"
   ]
  },
  {
   "cell_type": "markdown",
   "metadata": {},
   "source": [
    "## 线性代数 scipy.linalg"
   ]
  },
  {
   "cell_type": "markdown",
   "metadata": {},
   "source": [
    "## 统计学 scipy.stats"
   ]
  },
  {
   "cell_type": "markdown",
   "metadata": {},
   "source": [
    "## 多维图像处理 scipy.ndimage\n",
    "图像处理和分析可以看作是对二维数组的操作。"
   ]
  },
  {
   "cell_type": "markdown",
   "metadata": {},
   "source": [
    "# sympy笔记\n",
    "从基本的符号算术到多项式、微积分、求解方程、离散数学、几何、统计和物理。主要处理三种类型的数据：整型数据、实数和有理数。"
   ]
  },
  {
   "cell_type": "code",
   "execution_count": 104,
   "metadata": {},
   "outputs": [],
   "source": [
    "import sympy as sym\n",
    "sym.init_printing(use_latex=True,fontsize='8pt')"
   ]
  },
  {
   "cell_type": "markdown",
   "metadata": {},
   "source": [
    "## 符号、表达式和基本运算"
   ]
  },
  {
   "cell_type": "code",
   "execution_count": 84,
   "metadata": {},
   "outputs": [
    {
     "data": {
      "image/png": "[encoded data removed]",
      "text/latex": [
       "$$ma_{0} + \\frac{ma_{1} ma_{2}}{ma_{3}} - ma_{4}$$"
      ],
      "text/plain": [
       "      ma₁⋅ma₂      \n",
       "ma₀ + ─────── - ma₄\n",
       "        ma₃        "
      ]
     },
     "execution_count": 84,
     "metadata": {},
     "output_type": "execute_result"
    }
   ],
   "source": [
    "x, y, z = sym.symbols('x y z')\n",
    "m0, m1, m2, m3, m4 = sym.symbols('ma0:5')\n",
    "x = m0+m1*m2/m3-m4\n",
    "x"
   ]
  },
  {
   "cell_type": "markdown",
   "metadata": {},
   "source": [
    "## 求解方程\n",
    "solve可求解各种类型的方程，需要输入两个参数：待解的表达式和变量"
   ]
  },
  {
   "cell_type": "code",
   "execution_count": 85,
   "metadata": {},
   "outputs": [
    {
     "data": {
      "image/png": "[encoded data removed]",
      "text/latex": [
       "$$\\left [ -2, \\quad \\frac{5}{2}\\right ]$$"
      ],
      "text/plain": [
       "[-2, 5/2]"
      ]
     },
     "execution_count": 85,
     "metadata": {},
     "output_type": "execute_result"
    }
   ],
   "source": [
    "sym.solve(6*y**2-3*y-30,y) # 默认方程等式右边的值是0"
   ]
  },
  {
   "cell_type": "code",
   "execution_count": 87,
   "metadata": {},
   "outputs": [
    {
     "data": {
      "image/png": "[encoded data removed]",
      "text/latex": [
       "$$\\left \\{ x : \\frac{12}{11}, \\quad y : \\frac{20}{11}\\right \\}$$"
      ],
      "text/plain": [
       "⎧   12     20⎫\n",
       "⎨x: ──, y: ──⎬\n",
       "⎩   11     11⎭"
      ]
     },
     "execution_count": 87,
     "metadata": {},
     "output_type": "execute_result"
    }
   ],
   "source": [
    "x, y = sym.symbols('x y')\n",
    "sym.solve([2*x+y-4,5*x-3*y],[x,y]) # 解方程组"
   ]
  },
  {
   "cell_type": "markdown",
   "metadata": {},
   "source": [
    "## 有理数、指数和对数函数"
   ]
  },
  {
   "cell_type": "markdown",
   "metadata": {},
   "source": [
    "## 多项式"
   ]
  },
  {
   "cell_type": "markdown",
   "metadata": {},
   "source": [
    "## 三角函数和复数"
   ]
  },
  {
   "cell_type": "markdown",
   "metadata": {},
   "source": [
    "## 线性代数"
   ]
  },
  {
   "cell_type": "markdown",
   "metadata": {},
   "source": [
    "## 微积分"
   ]
  },
  {
   "cell_type": "code",
   "execution_count": 91,
   "metadata": {},
   "outputs": [
    {
     "data": {
      "image/png": "[encoded data removed]",
      "text/latex": [
       "$$\\mathrm{True}$$"
      ],
      "text/plain": [
       "True"
      ]
     },
     "execution_count": 91,
     "metadata": {},
     "output_type": "execute_result"
    }
   ],
   "source": [
    "sym.oo # 无穷大\n",
    "6700 < sym.oo"
   ]
  },
  {
   "cell_type": "code",
   "execution_count": 98,
   "metadata": {},
   "outputs": [
    {
     "data": {
      "image/png": "[encoded data removed]",
      "text/latex": [
       "$$n$$"
      ],
      "text/plain": [
       "n"
      ]
     },
     "execution_count": 98,
     "metadata": {},
     "output_type": "execute_result"
    }
   ],
   "source": [
    "x, n = sym.symbols('x n')\n",
    "sym.limit(((x**n-1)/(x-1)),x,1) #极限"
   ]
  },
  {
   "cell_type": "code",
   "execution_count": 99,
   "metadata": {},
   "outputs": [
    {
     "data": {
      "image/png": "[encoded data removed]",
      "text/latex": [
       "$$-\\infty$$"
      ],
      "text/plain": [
       "-∞"
      ]
     },
     "execution_count": 99,
     "metadata": {},
     "output_type": "execute_result"
    }
   ],
   "source": [
    "sym.limit(1/x,x,0,dir='-') # 左极限，默认右极限（+）"
   ]
  },
  {
   "cell_type": "code",
   "execution_count": 101,
   "metadata": {
    "scrolled": true
   },
   "outputs": [
    {
     "data": {
      "image/png": "[encoded data removed]",
      "text/latex": [
       "$$4 x^{3}$$"
      ],
      "text/plain": [
       "   3\n",
       "4⋅x "
      ]
     },
     "execution_count": 101,
     "metadata": {},
     "output_type": "execute_result"
    }
   ],
   "source": [
    "sym.diff(x**4,x) # 微分"
   ]
  },
  {
   "cell_type": "code",
   "execution_count": 105,
   "metadata": {},
   "outputs": [
    {
     "data": {
      "image/png": "[encoded data removed]",
      "text/latex": [
       "$$12 x^{2}$$"
      ],
      "text/plain": [
       "    2\n",
       "12⋅x "
      ]
     },
     "execution_count": 105,
     "metadata": {},
     "output_type": "execute_result"
    }
   ],
   "source": [
    "sym.diff(x**4,x,2) # 多重微分"
   ]
  },
  {
   "cell_type": "code",
   "execution_count": 109,
   "metadata": {},
   "outputs": [
    {
     "data": {
      "image/png": "[encoded data removed]",
      "text/latex": [
       "$$f{\\left (x \\right )} = C_{1} e^{x}$$"
      ],
      "text/plain": [
       "           x\n",
       "f(x) = C₁⋅ℯ "
      ]
     },
     "execution_count": 109,
     "metadata": {},
     "output_type": "execute_result"
    }
   ],
   "source": [
    "x = sym.symbols('x')\n",
    "f = sym.symbols('f', cls=sym.Function)\n",
    "sym.dsolve(f(x)-sym.diff(f(x),x), f(x)) # 解微分方程"
   ]
  },
  {
   "cell_type": "code",
   "execution_count": 112,
   "metadata": {},
   "outputs": [
    {
     "data": {
      "image/png": "[encoded data removed]",
      "text/latex": [
       "$$f{\\left (x \\right )} - \\frac{d}{d x} f{\\left (x \\right )}$$"
      ],
      "text/plain": [
       "       d       \n",
       "f(x) - ──(f(x))\n",
       "       dx      "
      ]
     },
     "execution_count": 112,
     "metadata": {},
     "output_type": "execute_result"
    }
   ],
   "source": [
    "f(x)-sym.diff(f(x),x) # 可以表示微分方程，右侧默认等于零"
   ]
  },
  {
   "cell_type": "code",
   "execution_count": 114,
   "metadata": {},
   "outputs": [
    {
     "data": {
      "image/png": "[encoded data removed]",
      "text/latex": [
       "$$\\frac{x^{4}}{4} + x$$"
      ],
      "text/plain": [
       " 4    \n",
       "x     \n",
       "── + x\n",
       "4     "
      ]
     },
     "execution_count": 114,
     "metadata": {},
     "output_type": "execute_result"
    }
   ],
   "source": [
    "x = sym.symbols('x')\n",
    "sym.integrate(x**3+1,x) # 积分"
   ]
  },
  {
   "cell_type": "code",
   "execution_count": 117,
   "metadata": {},
   "outputs": [
    {
     "data": {
      "image/png": "[encoded data removed]",
      "text/latex": [
       "$$\\frac{5}{12}$$"
      ],
      "text/plain": [
       "5/12"
      ]
     },
     "execution_count": 117,
     "metadata": {},
     "output_type": "execute_result"
    }
   ],
   "source": [
    "x = sym.symbols('x')\n",
    "sym.integrate(x**3-x**2+x, (x,0,1)) # 定积分"
   ]
  },
  {
   "cell_type": "markdown",
   "metadata": {},
   "source": [
    "还包括整数序列和幂级数等"
   ]
  },
  {
   "cell_type": "markdown",
   "metadata": {},
   "source": [
    "## 向量、物理模块、力学"
   ]
  },
  {
   "cell_type": "markdown",
   "metadata": {},
   "source": [
    "## 打印功能"
   ]
  },
  {
   "cell_type": "markdown",
   "metadata": {},
   "source": [
    "## 密码学、逻辑模块"
   ]
  },
  {
   "cell_type": "markdown",
   "metadata": {},
   "source": [
    "## 几何模块、符号积分"
   ]
  },
  {
   "cell_type": "markdown",
   "metadata": {},
   "source": [
    "## 多项式操作、集合"
   ]
  },
  {
   "cell_type": "markdown",
   "metadata": {},
   "source": [
    "## 运算的简化与合并"
   ]
  },
  {
   "cell_type": "code",
   "execution_count": 119,
   "metadata": {},
   "outputs": [
    {
     "data": {
      "image/png": "[encoded data removed]",
      "text/latex": [
       "$$\\frac{3 x^{2} + 2 x}{4 x \\sin^{2}{\\left (y \\right )} + 2 x \\cos^{2}{\\left (y \\right )}}$$"
      ],
      "text/plain": [
       "           2             \n",
       "        3⋅x  + 2⋅x       \n",
       "─────────────────────────\n",
       "       2             2   \n",
       "4⋅x⋅sin (y) + 2⋅x⋅cos (y)"
      ]
     },
     "execution_count": 119,
     "metadata": {},
     "output_type": "execute_result"
    }
   ],
   "source": [
    "from sympy.abc import x,y\n",
    "expr = (2*x+3*x**2)/(4*x*sym.sin(y)**2+2*x*sym.cos(y)**2)\n",
    "expr"
   ]
  },
  {
   "cell_type": "code",
   "execution_count": 120,
   "metadata": {},
   "outputs": [
    {
     "data": {
      "image/png": "[encoded data removed]",
      "text/latex": [
       "$$\\frac{\\frac{3 x}{2} + 1}{\\sin^{2}{\\left (y \\right )} + 1}$$"
      ],
      "text/plain": [
       "  3⋅x      \n",
       "  ─── + 1  \n",
       "   2       \n",
       "───────────\n",
       "   2       \n",
       "sin (y) + 1"
      ]
     },
     "execution_count": 120,
     "metadata": {},
     "output_type": "execute_result"
    }
   ],
   "source": [
    "sym.simplify(expr) # 简化多项式与三角函数"
   ]
  },
  {
   "cell_type": "markdown",
   "metadata": {},
   "source": [
    "# matplotlib笔记"
   ]
  },
  {
   "cell_type": "markdown",
   "metadata": {},
   "source": [
    "## matplotlib的构架\n",
    "* 最重要的对象是Figure\n",
    "* 构架分为三层：后端（backend），艺术家（artist）、脚本（scripting）"
   ]
  },
  {
   "cell_type": "markdown",
   "metadata": {},
   "source": [
    "### 脚本层（pyplot）\n",
    "pyplot接口管理创建图形、坐标轴以及它们与后端层的连接。"
   ]
  },
  {
   "cell_type": "code",
   "execution_count": 126,
   "metadata": {},
   "outputs": [
    {
     "data": {
      "image/png": "[encoded data removed]",
      "text/plain": [
       "<Figure size 432x288 with 1 Axes>"
      ]
     },
     "metadata": {
      "needs_background": "light"
     },
     "output_type": "display_data"
    }
   ],
   "source": [
    "import matplotlib.pyplot as plt\n",
    "import numpy as np\n",
    "var = np.random.randn(5300)\n",
    "plt.hist(var,530)\n",
    "plt.title('Normal Distribution($\\mu=0, \\sigma=1$)')\n",
    "plt.show()"
   ]
  },
  {
   "cell_type": "markdown",
   "metadata": {},
   "source": [
    "### 艺术家层（matplotlib.artist.Artist）\n",
    "在matplotlib的Figure中显示的每个对象都是Artist的一个实例，包括图形标题、坐标轴、数字标签、图像、线、条形图与点。"
   ]
  },
  {
   "cell_type": "markdown",
   "metadata": {},
   "source": [
    "### 后端层\n",
    "画板、纸、上色等功能，还可以整合其它工具箱，例如Qt。"
   ]
  },
  {
   "cell_type": "markdown",
   "metadata": {},
   "source": [
    "## 画图方法"
   ]
  },
  {
   "cell_type": "markdown",
   "metadata": {},
   "source": [
    "### 线图"
   ]
  },
  {
   "cell_type": "code",
   "execution_count": 132,
   "metadata": {},
   "outputs": [
    {
     "data": {
      "image/png": "[encoded data removed]",
      "text/plain": [
       "<Figure size 432x288 with 1 Axes>"
      ]
     },
     "metadata": {
      "needs_background": "light"
     },
     "output_type": "display_data"
    }
   ],
   "source": [
    "# 圆的半径和面积的对应关系\n",
    "r = [1.5,2.0,3.5,4.0,5.5,6.0] # 半径\n",
    "a = np.power(r,2)*np.pi # 面积\n",
    "plt.plot(r,a)\n",
    "plt.xlabel('Radius')\n",
    "plt.ylabel('Area')\n",
    "plt.title('Area of Circle')\n",
    "plt.show()"
   ]
  },
  {
   "cell_type": "code",
   "execution_count": 152,
   "metadata": {},
   "outputs": [
    {
     "data": {
      "image/png": "[encoded data removed]",
      "text/plain": [
       "<Figure size 432x288 with 1 Axes>"
      ]
     },
     "metadata": {
      "needs_background": "light"
     },
     "output_type": "display_data"
    }
   ],
   "source": [
    "var = np.arange(0,30,0.2)\n",
    "cos_var = np.cos(var)\n",
    "sin_var = np.sin(var)\n",
    "plt.plot(var, cos_var, 'y-*', label='cosine')\n",
    "plt.plot(var, sin_var, 'r-.', label='sine')\n",
    "plt.legend(loc='upper left') # 小标左上\n",
    "plt.xlabel('Xaxis')\n",
    "plt.ylabel('Yaxis')\n",
    "# plt.ylim((-1.5, 1.5)) # 改变坐标轴显示范围\n",
    "plt.show()"
   ]
  },
  {
   "cell_type": "code",
   "execution_count": 158,
   "metadata": {},
   "outputs": [
    {
     "data": {
      "image/png": "[encoded data removed]",
      "text/plain": [
       "<Figure size 432x288 with 1 Axes>"
      ]
     },
     "metadata": {
      "needs_background": "light"
     },
     "output_type": "display_data"
    }
   ],
   "source": [
    "# 等高线\n",
    "x = np.linspace(0,10.5,40)\n",
    "y = np.linspace(1,8,30)\n",
    "(X,Y) = np.meshgrid(x,y)\n",
    "func = np.exp(-((X-2.5)**2+(Y-4)**2)/4)-np.exp(-((X-7.5)**2+(Y-4)**2)/4)\n",
    "contr = plt.contour(x,y,func)\n",
    "plt.clabel(contr)\n",
    "plt.xlabel('x')\n",
    "plt.ylabel('y')\n",
    "plt.show()"
   ]
  },
  {
   "cell_type": "markdown",
   "metadata": {},
   "source": [
    "# IPython\n",
    "* ?号显示功能列表\n",
    "* %quickref显示命令简介\n",
    "* %magic显示魔法命令的使用方法\n",
    "* 如果我们输入任何Python对象后加？号，就会显示这个对象的文字说明、功能以及构建方法\n",
    "* 操作系统命令接口：在命令前加！号，就可以执行任何操作系统命令和执行脚本文件，比如ls\n",
    "* 调试：%debug可以启动python的调试器，打印变量结果、执行语句、追踪异常来源等\n",
    "* 用户可以通过%run -d programname.py命令单步调试程序"
   ]
  }
 ],
 "metadata": {
  "kernelspec": {
   "display_name": "Python 3",
   "language": "python",
   "name": "python3"
  },
  "language_info": {
   "codemirror_mode": {
    "name": "ipython",
    "version": 3
   },
   "file_extension": ".py",
   "mimetype": "text/x-python",
   "name": "python",
   "nbconvert_exporter": "python",
   "pygments_lexer": "ipython3",
   "version": "3.7.1"
  },
  "toc": {
   "base_numbering": 1,
   "nav_menu": {},
   "number_sections": true,
   "sideBar": true,
   "skip_h1_title": false,
   "title_cell": "Table of Contents",
   "title_sidebar": "Contents",
   "toc_cell": false,
   "toc_position": {},
   "toc_section_display": true,
   "toc_window_display": true
  }
 },
 "nbformat": 4,
 "nbformat_minor": 2
}
