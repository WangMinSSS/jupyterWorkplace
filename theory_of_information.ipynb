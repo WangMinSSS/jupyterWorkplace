{
 "cells": [
  {
   "cell_type": "markdown",
   "metadata": {},
   "source": [
    "\n",
    "# 概论\n",
    "## 信息论\n",
    "\n",
    "- 信息只与随机事件的发生有关\n",
    "\n",
    "- 香农信息论：信息是对物体运动状态和变化方式的表达，它存在于任何事物之中，可以被认识主体（生物或者机器）获取和利用。\n",
    "\n",
    "\n",
    "1. 信息是可以识别的。\n",
    "2. 信息是可以存储、传输和携带的。\n",
    "3. 信息是可以度量的。\n",
    "$$H(X) = -\\sum_{i=1}^{n}p(x_i)log(p(x_i))$$\n",
    "4. 信息是可以加工的。\n",
    "5. 信息具有可替代性。\n",
    "6. 信息是可以共享的。\n",
    "7. 信息的载体是可以转换的。"
   ]
  },
  {
   "cell_type": "markdown",
   "metadata": {},
   "source": [
    "## 通信系统\n",
    "1. 信源  \n",
    "输出消息，信源可能出现的状态是随机的。\n",
    "2. 编码器  \n",
    "把消息转换成信号，信源编码器，提高信息传输的效率。信道编码器，提高信息传输的可靠性。\n",
    "3. 信道  \n",
    "信道除了传送信号以外，还有存储信号的作用。在信道中引入噪声源。\n",
    "4. 译码器  \n",
    "编码器的反变换。\n",
    "5. 信宿  \n",
    "信源和信宿可处于不同地点和不同时刻。w"
   ]
  },
  {
   "cell_type": "markdown",
   "metadata": {},
   "source": [
    "## 信息论研究的内容\n",
    "1. 信息论基础  \n",
    "信息的测度、信道容量和信息率失真函数，与这三个概念相对应的香农三定理以及信源和信道编码。\n",
    "2. 一般信息论  \n",
    "\n",
    "\n",
    "- 信息传输和处理问题，噪声理论、信号滤波和预测理论、统计检测与估计理论、调制理论。  \n",
    "- 维纳的重点是接收端，研究消息在传输过程中受到干扰时，在接收端如何把消息从干扰中提取出来，维纳滤波器。  \n",
    "- 香农研究的对象是从信源到信宿的全过程，重点是编码。\n",
    "\n",
    "\n",
    "3. 广义信息论  \n",
    "凡是能够用广义通信系统模型描述的过程或系统，都能用信息基本理论来研究。"
   ]
  },
  {
   "cell_type": "markdown",
   "metadata": {},
   "source": [
    "# 信源及其信息量\n",
    "\n",
    "* 如何计算信源的信息量\n",
    "* 信源编码问题\n",
    "\n",
    "## 单符号离散信源\n",
    "\n",
    "* 自信息量\n",
    "\n",
    "$$I(x_i) = log\\frac{1}{p(x_i)}$$\n",
    "\n",
    "$I(x_i)$:"
   ]
  }
 ],
 "metadata": {
  "kernelspec": {
   "display_name": "Python 3",
   "language": "python",
   "name": "python3"
  },
  "language_info": {
   "codemirror_mode": {
    "name": "ipython",
    "version": 3
   },
   "file_extension": ".py",
   "mimetype": "text/x-python",
   "name": "python",
   "nbconvert_exporter": "python",
   "pygments_lexer": "ipython3",
   "version": "3.7.1"
  },
  "toc": {
   "base_numbering": 1,
   "nav_menu": {},
   "number_sections": true,
   "sideBar": true,
   "skip_h1_title": false,
   "title_cell": "Table of Contents",
   "title_sidebar": "Contents",
   "toc_cell": false,
   "toc_position": {},
   "toc_section_display": true,
   "toc_window_display": false
  }
 },
 "nbformat": 4,
 "nbformat_minor": 2
}
